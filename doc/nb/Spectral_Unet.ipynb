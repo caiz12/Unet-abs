{
 "cells": [
  {
   "cell_type": "markdown",
   "metadata": {},
   "source": [
    "# Fussing about with a spectral U-net"
   ]
  },
  {
   "cell_type": "code",
   "execution_count": 1,
   "metadata": {},
   "outputs": [],
   "source": [
    "# imports\n",
    "import torch\n",
    "import torch.nn as nn\n",
    "import torch.nn.functional as F\n",
    "\n",
    "from torchsummary import summary"
   ]
  },
  {
   "cell_type": "markdown",
   "metadata": {},
   "source": [
    "## Generate a 2x2 tensor"
   ]
  },
  {
   "cell_type": "code",
   "execution_count": 2,
   "metadata": {},
   "outputs": [],
   "source": [
    "input = torch.rand(1,1,64,64)"
   ]
  },
  {
   "cell_type": "code",
   "execution_count": 3,
   "metadata": {},
   "outputs": [
    {
     "data": {
      "text/plain": [
       "torch.Size([1, 1, 64, 64])"
      ]
     },
     "execution_count": 3,
     "metadata": {},
     "output_type": "execute_result"
    }
   ],
   "source": [
    "input.shape"
   ]
  },
  {
   "cell_type": "markdown",
   "metadata": {},
   "source": [
    "## Convolve"
   ]
  },
  {
   "cell_type": "code",
   "execution_count": 10,
   "metadata": {},
   "outputs": [],
   "source": [
    "def double_conv(in_channels, out_channels):\n",
    "    return nn.Sequential(\n",
    "        nn.Conv2d(in_channels, out_channels, (1,3), padding=(0,1)),\n",
    "        nn.ReLU(inplace=True),\n",
    "        nn.Conv2d(out_channels, out_channels, (1,3), padding=(0,1)),\n",
    "        nn.ReLU(inplace=True)\n",
    "    )   \n",
    "\n",
    "class xUNet(nn.Module):\n",
    "\n",
    "    def __init__(self):\n",
    "        super(xUNet, self).__init__()\n",
    "        # 1 input image channel, 6 output channels, 5x5 square convolution\n",
    "        # kernel\n",
    "        self.dconv_down1 = double_conv(1, 16)\n",
    "        self.dconv_down2 = double_conv(16, 32)\n",
    "        self.dconv_down3 = double_conv(32, 64)\n",
    "        #\n",
    "        self.maxpool = nn.MaxPool2d((1,2))\n",
    "        #\n",
    "        self.upsample = nn.Upsample(scale_factor=(1,2), mode='bilinear', align_corners=True)        \n",
    "        \n",
    "        self.dconv_up2 = double_conv(32 + 64, 32)\n",
    "        self.dconv_up1 = double_conv(16 + 32, 16)\n",
    "\n",
    "        self.conv_last = nn.Conv2d(16, 1, 1)  # \n",
    "        \n",
    "    def forward(self, x):\n",
    "        conv1 = self.dconv_down1(x)\n",
    "        x = self.maxpool(conv1)\n",
    "        \n",
    "        conv2 = self.dconv_down2(x)\n",
    "        x = self.maxpool(conv2)\n",
    "        \n",
    "        x = self.dconv_down3(x)   \n",
    "        \n",
    "        # Come back up\n",
    "\n",
    "        x = self.upsample(x)\n",
    "        #import pdb; pdb.set_trace()\n",
    "\n",
    "        x = torch.cat([x, conv2], dim=1)\n",
    "        \n",
    "        x = self.dconv_up2(x)\n",
    "        x = self.upsample(x)        \n",
    "        x = torch.cat([x, conv1], dim=1) \n",
    "        \n",
    "        x = self.dconv_up1(x)\n",
    "        \n",
    "        out = self.conv_last(x)\n",
    "        \n",
    "        return out"
   ]
  },
  {
   "cell_type": "code",
   "execution_count": 11,
   "metadata": {},
   "outputs": [],
   "source": [
    "xunet = xUNet()"
   ]
  },
  {
   "cell_type": "code",
   "execution_count": 12,
   "metadata": {},
   "outputs": [
    {
     "name": "stdout",
     "output_type": "stream",
     "text": [
      "----------------------------------------------------------------\n",
      "        Layer (type)               Output Shape         Param #\n",
      "================================================================\n",
      "            Conv2d-1           [-1, 16, 64, 64]              64\n",
      "              ReLU-2           [-1, 16, 64, 64]               0\n",
      "            Conv2d-3           [-1, 16, 64, 64]             784\n",
      "              ReLU-4           [-1, 16, 64, 64]               0\n",
      "         MaxPool2d-5           [-1, 16, 64, 32]               0\n",
      "            Conv2d-6           [-1, 32, 64, 32]           1,568\n",
      "              ReLU-7           [-1, 32, 64, 32]               0\n",
      "            Conv2d-8           [-1, 32, 64, 32]           3,104\n",
      "              ReLU-9           [-1, 32, 64, 32]               0\n",
      "        MaxPool2d-10           [-1, 32, 64, 16]               0\n",
      "           Conv2d-11           [-1, 64, 64, 16]           6,208\n",
      "             ReLU-12           [-1, 64, 64, 16]               0\n",
      "           Conv2d-13           [-1, 64, 64, 16]          12,352\n",
      "             ReLU-14           [-1, 64, 64, 16]               0\n",
      "         Upsample-15           [-1, 64, 64, 32]               0\n",
      "           Conv2d-16           [-1, 32, 64, 32]           9,248\n",
      "             ReLU-17           [-1, 32, 64, 32]               0\n",
      "           Conv2d-18           [-1, 32, 64, 32]           3,104\n",
      "             ReLU-19           [-1, 32, 64, 32]               0\n",
      "         Upsample-20           [-1, 32, 64, 64]               0\n",
      "           Conv2d-21           [-1, 16, 64, 64]           2,320\n",
      "             ReLU-22           [-1, 16, 64, 64]               0\n",
      "           Conv2d-23           [-1, 16, 64, 64]             784\n",
      "             ReLU-24           [-1, 16, 64, 64]               0\n",
      "           Conv2d-25            [-1, 1, 64, 64]              17\n",
      "================================================================\n",
      "Total params: 39,553\n",
      "Trainable params: 39,553\n",
      "Non-trainable params: 0\n",
      "----------------------------------------------------------------\n",
      "Input size (MB): 0.02\n",
      "Forward/backward pass size (MB): 12.53\n",
      "Params size (MB): 0.15\n",
      "Estimated Total Size (MB): 12.70\n",
      "----------------------------------------------------------------\n"
     ]
    },
    {
     "name": "stderr",
     "output_type": "stream",
     "text": [
      "/home/xavier/.pyenv/versions/anaconda3-5.0.1/lib/python3.6/site-packages/torch/nn/modules/upsampling.py:129: UserWarning: nn.Upsample is deprecated. Use nn.functional.interpolate instead.\n",
      "  warnings.warn(\"nn.{} is deprecated. Use nn.functional.interpolate instead.\".format(self.name))\n"
     ]
    }
   ],
   "source": [
    "summary(xunet, input_size=(1, 64, 64))"
   ]
  },
  {
   "cell_type": "code",
   "execution_count": 12,
   "metadata": {},
   "outputs": [
    {
     "name": "stderr",
     "output_type": "stream",
     "text": [
      "/home/xavier/.pyenv/versions/anaconda3-5.0.1/lib/python3.6/site-packages/torch/nn/modules/upsampling.py:129: UserWarning: nn.Upsample is deprecated. Use nn.functional.interpolate instead.\n",
      "  warnings.warn(\"nn.{} is deprecated. Use nn.functional.interpolate instead.\".format(self.name))\n"
     ]
    },
    {
     "name": "stdout",
     "output_type": "stream",
     "text": [
      "> <ipython-input-10-fa67e0d1d38a>(42)forward()\n",
      "-> x = torch.cat([x, conv2], dim=1)\n",
      "(Pdb) x.shape\n",
      "torch.Size([1, 64, 64, 32])\n",
      "(Pdb) conv2.shape\n",
      "torch.Size([1, 32, 64, 32])\n",
      "(Pdb) c\n"
     ]
    },
    {
     "data": {
      "text/plain": [
       "torch.Size([1, 1, 64, 64])"
      ]
     },
     "execution_count": 12,
     "metadata": {},
     "output_type": "execute_result"
    }
   ],
   "source": [
    "xunet(input).shape"
   ]
  },
  {
   "cell_type": "code",
   "execution_count": null,
   "metadata": {},
   "outputs": [],
   "source": []
  }
 ],
 "metadata": {
  "kernelspec": {
   "display_name": "Python 3",
   "language": "python",
   "name": "python3"
  },
  "language_info": {
   "codemirror_mode": {
    "name": "ipython",
    "version": 3
   },
   "file_extension": ".py",
   "mimetype": "text/x-python",
   "name": "python",
   "nbconvert_exporter": "python",
   "pygments_lexer": "ipython3",
   "version": "3.6.3"
  }
 },
 "nbformat": 4,
 "nbformat_minor": 2
}
